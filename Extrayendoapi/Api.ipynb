{
 "cells": [
  {
   "cell_type": "code",
   "execution_count": 13,
   "id": "76035787",
   "metadata": {},
   "outputs": [
    {
     "name": "stdout",
     "output_type": "stream",
     "text": [
      "  Exporter Country ID Exporter Country   HS6 ID  \\\n",
      "0               afago           Angola  1010121   \n",
      "1               afago           Angola  1010221   \n",
      "2               afago           Angola  1010612   \n",
      "3               afago           Angola  1010619   \n",
      "4               afago           Angola  1010690   \n",
      "\n",
      "                                                 HS6 Importer Country ID  \\\n",
      "0           Horses: live, pure-bred breeding animals               asare   \n",
      "1           Cattle: live, pure-bred breeding animals               asare   \n",
      "2  Mammals: live, whales, dolphins and porpoises ...               sabra   \n",
      "3  Mammals: live, other than primates, whales, do...               afzaf   \n",
      "4  Animals: live, n.e.c. in chapter 01, other tha...               asare   \n",
      "\n",
      "       Importer Country  Unit ID          Unit  Year  Quantity  Trade Value  \\\n",
      "0  United Arab Emirates        4  Metric Tonne  2023     0.002        151.0   \n",
      "1  United Arab Emirates        4  Metric Tonne  2022     0.000      41100.0   \n",
      "2                Brazil        4  Metric Tonne  2022     0.150       2800.0   \n",
      "3          South Africa        4  Metric Tonne  2022     0.012          6.0   \n",
      "4  United Arab Emirates        4  Metric Tonne  2023     0.314      15488.0   \n",
      "\n",
      "     Unit Value  \n",
      "0  75500.000000  \n",
      "1           NaN  \n",
      "2  18666.666667  \n",
      "3    500.000000  \n",
      "4  49324.840764  \n",
      "🔢 Filas: 10000, Columnas: 12\n",
      "Index(['Exporter Country ID', 'Exporter Country', 'HS6 ID', 'HS6',\n",
      "       'Importer Country ID', 'Importer Country', 'Unit ID', 'Unit', 'Year',\n",
      "       'Quantity', 'Trade Value', 'Unit Value'],\n",
      "      dtype='object')\n"
     ]
    },
    {
     "data": {
      "text/plain": [
       "(10000, 12)"
      ]
     },
     "execution_count": 13,
     "metadata": {},
     "output_type": "execute_result"
    }
   ],
   "source": [
    "import requests\n",
    "import pandas as pd\n",
    "\n",
    "url = \"https://api-v2.oec.world/tesseract/data.jsonrecords\"\n",
    "\n",
    "params = {\n",
    "    \"cube\": \"trade_i_baci_a_22\",\n",
    "    \"drilldowns\": \"Year,Exporter Country,Importer Country,HS6,Unit\",\n",
    "    \"measures\": \"Trade Value,Quantity,Unit Value\",\n",
    "    \"limit\": \"10000,0\" \n",
    "}\n",
    "\n",
    "response = requests.get(url, params=params)\n",
    "\n",
    "if response.status_code == 200:\n",
    "    data = response.json().get(\"data\", [])\n",
    "    df = pd.DataFrame(data)\n",
    "    print(df.head())\n",
    "    print(f\"🔢 Filas: {df.shape[0]}, Columnas: {df.shape[1]}\")\n",
    "    print(df.columns)\n",
    "else:\n",
    "    print(f\"❌ Error {response.status_code}: {response.text}\")\n",
    "df.shape"
   ]
  },
  {
   "cell_type": "code",
   "execution_count": null,
   "id": "52bdb52f",
   "metadata": {},
   "outputs": [],
   "source": [
    "## Dividiendo tablas para hacer un modelo estrella\n",
    "# Dimensiones\n",
    "dim_exporter = df[['Exporter Country ID', 'Exporter Country']].drop_duplicates().rename(\n",
    "    columns={'Exporter Country ID': 'Exporter_ID', 'Exporter Country': 'Exporter_Country'})\n",
    "\n",
    "dim_importer = df[['Importer Country ID', 'Importer Country']].drop_duplicates().rename(\n",
    "    columns={'Importer Country ID': 'Importer_ID', 'Importer Country': 'Importer_Country'})\n",
    "\n",
    "dim_product = df[['HS6 ID', 'HS6']].drop_duplicates().rename(\n",
    "    columns={'HS6 ID': 'Product_ID'})\n",
    "\n",
    "dim_unit = df[['Unit ID', 'Unit']].drop_duplicates().rename(\n",
    "    columns={'Unit ID': 'Unit_ID', 'Unit': 'Unit_Name'})\n",
    "\n",
    "dim_year = df[['Year']].drop_duplicates().reset_index(drop=True)\n",
    "dim_year['Year_ID'] = dim_year.index + 1\n",
    "dim_year = dim_year[['Year_ID', 'Year']]\n",
    "\n",
    "# Merge para la tabla de hechos\n",
    "df = df.merge(dim_year, on='Year', how='left')\n",
    "# Construcción de la tabla de hechos (main_table)\n",
    "main_table = df[['Year_ID', 'Exporter Country ID', 'Importer Country ID',\n",
    "                 'HS6 ID', 'Unit ID', 'Trade Value', 'Quantity', 'Unit Value']].rename(\n",
    "    columns={\n",
    "        'Exporter Country ID': 'Exporter_ID',\n",
    "        'Importer Country ID': 'Importer_ID',\n",
    "        'HS6 ID': 'Product_ID',\n",
    "        'Unit ID': 'Unit_ID',\n",
    "        'Trade Value': 'Trade_Value',\n",
    "        'Unit Value' : 'Unit_Value'\n",
    "    }\n",
    ")\n",
    "#Verificando tabla                 \n",
    "print(main_table)                 "
   ]
  }
 ],
 "metadata": {
  "kernelspec": {
   "display_name": "Python 3",
   "language": "python",
   "name": "python3"
  },
  "language_info": {
   "codemirror_mode": {
    "name": "ipython",
    "version": 3
   },
   "file_extension": ".py",
   "mimetype": "text/x-python",
   "name": "python",
   "nbconvert_exporter": "python",
   "pygments_lexer": "ipython3",
   "version": "3.10.6"
  }
 },
 "nbformat": 4,
 "nbformat_minor": 5
}
