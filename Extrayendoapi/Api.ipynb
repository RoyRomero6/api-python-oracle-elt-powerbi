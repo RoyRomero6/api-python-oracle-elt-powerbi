{
 "cells": [
  {
   "cell_type": "code",
   "execution_count": null,
   "id": "76035787",
   "metadata": {},
   "outputs": [
    {
     "name": "stdout",
     "output_type": "stream",
     "text": [
      "Tabla 1: 3 filas\n",
      "Tabla 2: 142 filas\n",
      "Tabla 3: 2322 filas\n",
      "Tabla 4: 1 filas\n",
      "Tabla 5: 2 filas\n",
      "Tabla 6: 10000 filas\n"
     ]
    }
   ],
   "source": [
    "import requests\n",
    "import pandas as pd\n",
    "\n",
    "def extract_and_transform():\n",
    "    url = \"https://api-v2.oec.world/tesseract/data.jsonrecords\"\n",
    "    params = {\n",
    "        \"cube\": \"trade_i_baci_a_22\",\n",
    "        \"drilldowns\": \"Year,Exporter Country,Importer Country,HS6,Unit\",\n",
    "        \"measures\": \"Trade Value,Quantity,Unit Value\",\n",
    "        \"limit\": \"10000,0\"\n",
    "    }\n",
    "\n",
    "    response = requests.get(url, params=params)\n",
    "\n",
    "    if response.status_code != 200:\n",
    "        raise Exception(f\"❌ Error {response.status_code}: {response.text}\")\n",
    "\n",
    "    data = response.json().get(\"data\", [])\n",
    "    df = pd.DataFrame(data)\n",
    "\n",
    "    # --- Creación de dimensiones ---\n",
    "    dim_exporter = df[['Exporter Country ID', 'Exporter Country']].drop_duplicates().rename(\n",
    "        columns={'Exporter Country ID': 'Exporter_ID', 'Exporter Country': 'Exporter_Country'})\n",
    "\n",
    "    dim_importer = df[['Importer Country ID', 'Importer Country']].drop_duplicates().rename(\n",
    "        columns={'Importer Country ID': 'Importer_ID', 'Importer Country': 'Importer_Country'})\n",
    "\n",
    "    dim_product = df[['HS6 ID', 'HS6']].drop_duplicates().rename(\n",
    "        columns={'HS6 ID': 'Product_ID'})\n",
    "\n",
    "    dim_unit = df[['Unit ID', 'Unit']].drop_duplicates().rename(\n",
    "        columns={'Unit ID': 'Unit_ID', 'Unit': 'Unit_Name'})\n",
    "\n",
    "    dim_year = df[['Year']].drop_duplicates().reset_index(drop=True)\n",
    "    dim_year['Year_ID'] = dim_year.index + 1\n",
    "    dim_year = dim_year[['Year_ID', 'Year']]\n",
    "\n",
    "    # Merge para crear la tabla de hechos\n",
    "    df = df.merge(dim_year, on='Year', how='left')\n",
    "    main_table = df[['Year_ID', 'Exporter Country ID', 'Importer Country ID',\n",
    "                    'HS6 ID', 'Unit ID', 'Trade Value', 'Quantity', 'Unit Value']].rename(\n",
    "        columns={\n",
    "            'Exporter Country ID': 'Exporter_ID',\n",
    "            'Importer Country ID': 'Importer_ID',\n",
    "            'HS6 ID': 'Product_ID',\n",
    "            'Unit ID': 'Unit_ID',\n",
    "            'Trade Value': 'Trade_Value',\n",
    "            'Unit Value': 'Unit_Value'\n",
    "        }\n",
    "    )\n",
    "\n",
    "    return dim_exporter, dim_importer, dim_product, dim_unit, dim_year, main_table\n",
    "\n",
    "\n",
    "if __name__ == \"__main__\":\n",
    "    dims = extract_and_transform()\n",
    "    for i, df in enumerate(dims):\n",
    "        print(f\"Tabla {i+1}: {df.shape[0]} filas\")\n"
   ]
  }
 ],
 "metadata": {
  "kernelspec": {
   "display_name": "Python 3",
   "language": "python",
   "name": "python3"
  },
  "language_info": {
   "codemirror_mode": {
    "name": "ipython",
    "version": 3
   },
   "file_extension": ".py",
   "mimetype": "text/x-python",
   "name": "python",
   "nbconvert_exporter": "python",
   "pygments_lexer": "ipython3",
   "version": "3.10.6"
  }
 },
 "nbformat": 4,
 "nbformat_minor": 5
}
